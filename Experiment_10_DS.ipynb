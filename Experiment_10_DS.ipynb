{
  "nbformat": 4,
  "nbformat_minor": 0,
  "metadata": {
    "colab": {
      "provenance": []
    },
    "kernelspec": {
      "name": "python3",
      "display_name": "Python 3"
    },
    "language_info": {
      "name": "python"
    }
  },
  "cells": [
    {
      "cell_type": "code",
      "execution_count": 2,
      "metadata": {
        "colab": {
          "base_uri": "https://localhost:8080/"
        },
        "id": "790WGDbV1wJd",
        "outputId": "cd573b30-7803-4a17-f16d-940abeb4cd39"
      },
      "outputs": [
        {
          "output_type": "stream",
          "name": "stdout",
          "text": [
            "Selected Features by Lasso: \n",
            "MedInc      0.710598\n",
            "HouseAge    0.106453\n",
            "Latitude   -0.011469\n",
            "dtype: float64\n",
            "Model performance with selected features (R^2 score): 0.48136113250290735\n"
          ]
        }
      ],
      "source": [
        "# Importing necessary libraries\n",
        "import numpy as np\n",
        "import pandas as pd\n",
        "from sklearn.datasets import fetch_california_housing\n",
        "from sklearn.linear_model import Lasso\n",
        "from sklearn.model_selection import train_test_split\n",
        "from sklearn.preprocessing import StandardScaler\n",
        "# Load dataset (Boston Housing dataset)\n",
        "boston = fetch_california_housing()\n",
        "X = pd.DataFrame(boston.data, columns=boston.feature_names)\n",
        "y = boston.target\n",
        "# Split dataset into training and testing sets\n",
        "X_train, X_test, y_train, y_test = train_test_split(X, y, test_size=0.2, random_state=42)\n",
        "# Standardize the data\n",
        "scaler = StandardScaler()\n",
        "X_train_scaled = scaler.fit_transform(X_train)\n",
        "X_test_scaled = scaler.transform(X_test)\n",
        "# Apply Lasso Regression for feature selection\n",
        "lasso = Lasso(alpha=0.1) # The regularization strength is controlled by alpha\n",
        "lasso.fit(X_train_scaled, y_train)\n",
        "# Get the coefficients of the features\n",
        "lasso_coefficients = pd.Series(lasso.coef_, index=X.columns)\n",
        "# Print non-zero coefficients (selected features)\n",
        "selected_features = lasso_coefficients[lasso_coefficients != 0]\n",
        "print(f\"Selected Features by Lasso: \\n{selected_features}\")\n",
        "# Evaluate the model performance on the test set\n",
        "lasso_test_score = lasso.score(X_test_scaled, y_test)\n",
        "print(f\"Model performance with selected features (R^2 score): {lasso_test_score}\")"
      ]
    }
  ]
}